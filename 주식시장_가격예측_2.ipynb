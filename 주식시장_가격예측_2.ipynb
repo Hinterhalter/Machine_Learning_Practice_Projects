{
 "cells": [
  {
   "cell_type": "code",
   "execution_count": 1,
   "metadata": {},
   "outputs": [],
   "source": [
    "import numpy as np\n",
    "import pandas as pd\n",
    "from nltk.classify import NaiveBayesClassifier\n",
    "from nltk.corpus import subjectivity\n",
    "from nltk.sentiment import SentimentAnalyzer\n",
    "from nltk.sentiment.util import *\n",
    "import matplotlib.pyplot as plt\n",
    "%matplotlib inline"
   ]
  },
  {
   "cell_type": "markdown",
   "metadata": {},
   "source": [
    "# 5. Feature Engineering\n",
    "- 주가에 대한 예측을 위해서 필요한 Feature Enginnering을 한다.\n",
    "- pickle 형식의 데이터를 불러오고 전처리를 진행한다."
   ]
  },
  {
   "cell_type": "markdown",
   "metadata": {},
   "source": [
    "## 5-1) 데이터 불러오기"
   ]
  },
  {
   "cell_type": "code",
   "execution_count": 31,
   "metadata": {},
   "outputs": [],
   "source": [
    "df_stocks = pd.read_pickle('./data/pickled_ten_year_filtered_lead_para.pkl')"
   ]
  },
  {
   "cell_type": "markdown",
   "metadata": {},
   "source": [
    "## 5-2) 전처리\n",
    "- 날짜 데이터 년-월-일 형태로 변경\n",
    "- 뉴스 제목 데이터를 병합하면서 생긴 주가 결측치 대체\n",
    "- 수정 종가를 정수 형태로 변환\n",
    "- 뉴스 헤드라인에서 가장 왼쪽에 놓인 점을 제거"
   ]
  },
  {
   "cell_type": "code",
   "execution_count": 32,
   "metadata": {},
   "outputs": [
    {
     "data": {
      "text/plain": [
       "close        98\n",
       "adj close    98\n",
       "articles      0\n",
       "dtype: int64"
      ]
     },
     "execution_count": 32,
     "metadata": {},
     "output_type": "execute_result"
    }
   ],
   "source": [
    "df_stocks.isnull().sum()"
   ]
  },
  {
   "cell_type": "code",
   "execution_count": 33,
   "metadata": {},
   "outputs": [
    {
     "data": {
      "text/plain": [
       "close        0\n",
       "adj close    0\n",
       "articles     0\n",
       "dtype: int64"
      ]
     },
     "execution_count": 33,
     "metadata": {},
     "output_type": "execute_result"
    }
   ],
   "source": [
    "df_stocks = df_stocks.interpolate()\n",
    "df_stocks.isnull().sum()"
   ]
  },
  {
   "cell_type": "code",
   "execution_count": 34,
   "metadata": {},
   "outputs": [],
   "source": [
    "# 수정 종가를 정수형태로 변환\n",
    "df_stocks['prices'] = df_stocks['adj close'].apply(np.int64)"
   ]
  },
  {
   "cell_type": "code",
   "execution_count": 35,
   "metadata": {},
   "outputs": [
    {
     "data": {
      "text/html": [
       "<div>\n",
       "<style scoped>\n",
       "    .dataframe tbody tr th:only-of-type {\n",
       "        vertical-align: middle;\n",
       "    }\n",
       "\n",
       "    .dataframe tbody tr th {\n",
       "        vertical-align: top;\n",
       "    }\n",
       "\n",
       "    .dataframe thead th {\n",
       "        text-align: right;\n",
       "    }\n",
       "</style>\n",
       "<table border=\"1\" class=\"dataframe\">\n",
       "  <thead>\n",
       "    <tr style=\"text-align: right;\">\n",
       "      <th></th>\n",
       "      <th>prices</th>\n",
       "      <th>articles</th>\n",
       "    </tr>\n",
       "  </thead>\n",
       "  <tbody>\n",
       "    <tr>\n",
       "      <td>2010-01-01 00:00:00</td>\n",
       "      <td>10467</td>\n",
       "      <td>. Time Warner and Fox Reach Deal for Cable Dis...</td>\n",
       "    </tr>\n",
       "    <tr>\n",
       "      <td>2010-01-02 00:00:00</td>\n",
       "      <td>10506</td>\n",
       "      <td>. Even Better than Pepperoni Pizza.... Transit...</td>\n",
       "    </tr>\n",
       "    <tr>\n",
       "      <td>2010-01-03 00:00:00</td>\n",
       "      <td>10544</td>\n",
       "      <td>. Media Equation: And a Tablet Will Lead Them ...</td>\n",
       "    </tr>\n",
       "    <tr>\n",
       "      <td>2010-01-04 00:00:00</td>\n",
       "      <td>10583</td>\n",
       "      <td>. In Galleon Cases, Timing Could Be Everything...</td>\n",
       "    </tr>\n",
       "    <tr>\n",
       "      <td>2010-01-05 00:00:00</td>\n",
       "      <td>10572</td>\n",
       "      <td>. Rajaratnam Expected to Face Additional Charg...</td>\n",
       "    </tr>\n",
       "  </tbody>\n",
       "</table>\n",
       "</div>"
      ],
      "text/plain": [
       "                     prices                                           articles\n",
       "2010-01-01 00:00:00   10467  . Time Warner and Fox Reach Deal for Cable Dis...\n",
       "2010-01-02 00:00:00   10506  . Even Better than Pepperoni Pizza.... Transit...\n",
       "2010-01-03 00:00:00   10544  . Media Equation: And a Tablet Will Lead Them ...\n",
       "2010-01-04 00:00:00   10583  . In Galleon Cases, Timing Could Be Everything...\n",
       "2010-01-05 00:00:00   10572  . Rajaratnam Expected to Face Additional Charg..."
      ]
     },
     "execution_count": 35,
     "metadata": {},
     "output_type": "execute_result"
    }
   ],
   "source": [
    "# prices와 articles만 선택\n",
    "df_stocks = df_stocks[['prices', 'articles']]\n",
    "df_stocks.head()"
   ]
  },
  {
   "cell_type": "code",
   "execution_count": 37,
   "metadata": {},
   "outputs": [],
   "source": [
    "df_stocks.index = pd.DatetimeIndex(df_stocks.index,)"
   ]
  },
  {
   "cell_type": "code",
   "execution_count": 38,
   "metadata": {},
   "outputs": [
    {
     "data": {
      "text/plain": [
       "DatetimeIndex(['2010-01-01', '2010-01-02', '2010-01-03', '2010-01-04',\n",
       "               '2010-01-05', '2010-01-06', '2010-01-07', '2010-01-08',\n",
       "               '2010-01-09', '2010-01-10',\n",
       "               ...\n",
       "               '2018-10-28', '2018-11-18', '2018-11-22', '2018-11-24',\n",
       "               '2018-11-30', '2018-12-02', '2018-12-24', '2018-12-26',\n",
       "               '2018-12-28', '2018-12-30'],\n",
       "              dtype='datetime64[ns]', length=3750, freq=None)"
      ]
     },
     "execution_count": 38,
     "metadata": {},
     "output_type": "execute_result"
    }
   ],
   "source": [
    "df_stocks.index"
   ]
  },
  {
   "cell_type": "code",
   "execution_count": 39,
   "metadata": {},
   "outputs": [
    {
     "data": {
      "text/html": [
       "<div>\n",
       "<style scoped>\n",
       "    .dataframe tbody tr th:only-of-type {\n",
       "        vertical-align: middle;\n",
       "    }\n",
       "\n",
       "    .dataframe tbody tr th {\n",
       "        vertical-align: top;\n",
       "    }\n",
       "\n",
       "    .dataframe thead th {\n",
       "        text-align: right;\n",
       "    }\n",
       "</style>\n",
       "<table border=\"1\" class=\"dataframe\">\n",
       "  <thead>\n",
       "    <tr style=\"text-align: right;\">\n",
       "      <th></th>\n",
       "      <th>prices</th>\n",
       "      <th>articles</th>\n",
       "    </tr>\n",
       "  </thead>\n",
       "  <tbody>\n",
       "    <tr>\n",
       "      <td>2010-01-01</td>\n",
       "      <td>10467</td>\n",
       "      <td>Time Warner and Fox Reach Deal for Cable Dist...</td>\n",
       "    </tr>\n",
       "    <tr>\n",
       "      <td>2010-01-02</td>\n",
       "      <td>10506</td>\n",
       "      <td>Even Better than Pepperoni Pizza.... Transit ...</td>\n",
       "    </tr>\n",
       "    <tr>\n",
       "      <td>2010-01-03</td>\n",
       "      <td>10544</td>\n",
       "      <td>Media Equation: And a Tablet Will Lead Them ....</td>\n",
       "    </tr>\n",
       "    <tr>\n",
       "      <td>2010-01-04</td>\n",
       "      <td>10583</td>\n",
       "      <td>In Galleon Cases, Timing Could Be Everything....</td>\n",
       "    </tr>\n",
       "    <tr>\n",
       "      <td>2010-01-05</td>\n",
       "      <td>10572</td>\n",
       "      <td>Rajaratnam Expected to Face Additional Charge...</td>\n",
       "    </tr>\n",
       "  </tbody>\n",
       "</table>\n",
       "</div>"
      ],
      "text/plain": [
       "            prices                                           articles\n",
       "2010-01-01   10467   Time Warner and Fox Reach Deal for Cable Dist...\n",
       "2010-01-02   10506   Even Better than Pepperoni Pizza.... Transit ...\n",
       "2010-01-03   10544   Media Equation: And a Tablet Will Lead Them ....\n",
       "2010-01-04   10583   In Galleon Cases, Timing Could Be Everything....\n",
       "2010-01-05   10572   Rajaratnam Expected to Face Additional Charge..."
      ]
     },
     "execution_count": 39,
     "metadata": {},
     "output_type": "execute_result"
    }
   ],
   "source": [
    "# 뉴스 헤드라인에서 가장 왼쪽에 있는 점을 제거\n",
    "df_stocks['articles'] = df_stocks['articles'].map(lambda x: x.lstrip('.-'))\n",
    "df_stocks.head()"
   ]
  },
  {
   "cell_type": "markdown",
   "metadata": {},
   "source": [
    "## 5-3) Feature 선택\n",
    "- Feature 선택은 머신러닝에서 가장 중요한 측면 중 하나이다.\n",
    "- 종가가 아닌 수정종가를 선택한 이유는 수정 종가가 주식, 뮤추얼 펀드, 배당금 등 DJIA지수에 대한 거래일의 최종가격이 무엇인지에 대해 더 잘 보여주기 때문이다."
   ]
  },
  {
   "cell_type": "code",
   "execution_count": 40,
   "metadata": {},
   "outputs": [
    {
     "data": {
      "text/html": [
       "<div>\n",
       "<style scoped>\n",
       "    .dataframe tbody tr th:only-of-type {\n",
       "        vertical-align: middle;\n",
       "    }\n",
       "\n",
       "    .dataframe tbody tr th {\n",
       "        vertical-align: top;\n",
       "    }\n",
       "\n",
       "    .dataframe thead th {\n",
       "        text-align: right;\n",
       "    }\n",
       "</style>\n",
       "<table border=\"1\" class=\"dataframe\">\n",
       "  <thead>\n",
       "    <tr style=\"text-align: right;\">\n",
       "      <th></th>\n",
       "      <th>prices</th>\n",
       "    </tr>\n",
       "  </thead>\n",
       "  <tbody>\n",
       "    <tr>\n",
       "      <td>2010-01-01</td>\n",
       "      <td>10467</td>\n",
       "    </tr>\n",
       "    <tr>\n",
       "      <td>2010-01-02</td>\n",
       "      <td>10506</td>\n",
       "    </tr>\n",
       "    <tr>\n",
       "      <td>2010-01-03</td>\n",
       "      <td>10544</td>\n",
       "    </tr>\n",
       "    <tr>\n",
       "      <td>2010-01-04</td>\n",
       "      <td>10583</td>\n",
       "    </tr>\n",
       "    <tr>\n",
       "      <td>2010-01-05</td>\n",
       "      <td>10572</td>\n",
       "    </tr>\n",
       "  </tbody>\n",
       "</table>\n",
       "</div>"
      ],
      "text/plain": [
       "            prices\n",
       "2010-01-01   10467\n",
       "2010-01-02   10506\n",
       "2010-01-03   10544\n",
       "2010-01-04   10583\n",
       "2010-01-05   10572"
      ]
     },
     "execution_count": 40,
     "metadata": {},
     "output_type": "execute_result"
    }
   ],
   "source": [
    "df = df_stocks[['prices']].copy()\n",
    "df.head()"
   ]
  },
  {
   "cell_type": "markdown",
   "metadata": {},
   "source": [
    "## 5-4) 정서 분석\n",
    "- 정서 분석(sentiment analysis)을 구현하기 위해 nltk에 내장된 정서 분석 모듈을 사용한다.\n",
    "- 부정 정서, 긍정 정서, 복합 정서 점수를 얻는다.\n",
    "- Lexicon 기반 접근법을 사용하여 각 문자의 단어가 분석되고 sentiwordnet 점수를 기반으로 각 단어에 특정 정서 점수가 부여한다.\n",
    "- 마지막으로 집계된 문장 수준 점수가 결정된다."
   ]
  },
  {
   "cell_type": "code",
   "execution_count": 41,
   "metadata": {},
   "outputs": [],
   "source": [
    "# 데이터 프레임에 새로운 컬럼 추가\n",
    "df[\"compound\"] = ''\n",
    "df[\"neg\"] = ''\n",
    "df[\"neu\"] = ''\n",
    "df[\"pos\"] = ''"
   ]
  },
  {
   "cell_type": "code",
   "execution_count": 42,
   "metadata": {},
   "outputs": [
    {
     "name": "stderr",
     "output_type": "stream",
     "text": [
      "[nltk_data] Downloading package vader_lexicon to\n",
      "[nltk_data]     /home/pirl/nltk_data...\n",
      "[nltk_data]   Package vader_lexicon is already up-to-date!\n"
     ]
    },
    {
     "data": {
      "text/plain": [
       "True"
      ]
     },
     "execution_count": 42,
     "metadata": {},
     "output_type": "execute_result"
    }
   ],
   "source": [
    "from nltk.sentiment.vader import SentimentIntensityAnalyzer\n",
    "nltk.download('vader_lexicon')"
   ]
  },
  {
   "cell_type": "code",
   "execution_count": 43,
   "metadata": {},
   "outputs": [],
   "source": [
    "import unicodedata\n",
    "\n",
    "sid = SentimentIntensityAnalyzer()"
   ]
  },
  {
   "cell_type": "code",
   "execution_count": 46,
   "metadata": {},
   "outputs": [
    {
     "data": {
      "text/plain": [
       "Index(['prices', 'articles'], dtype='object')"
      ]
     },
     "execution_count": 46,
     "metadata": {},
     "output_type": "execute_result"
    }
   ],
   "source": [
    "df_stocks.T.index"
   ]
  },
  {
   "cell_type": "code",
   "execution_count": null,
   "metadata": {},
   "outputs": [],
   "source": [
    "for date, row in df_stocks.T.iteritems():\n",
    "    try:\n",
    "        sentence = unicodedata.normalize('NFKD', df_stocks.loc[date, 'articles'])\n",
    "        ss = sid.polarity_scores(sentence)\n",
    "        df.set_value(date, 'compound', ss['compound'])\n",
    "        df.set_value(date, 'neg', ss['neg'])\n",
    "        df.set_value(date, 'neu', ss['neu'])\n",
    "        df.set_value(date, 'pos', ss['pos'])\n",
    "    except TypeError:\n",
    "        print(df_stocks.loc[date, 'articles'])\n",
    "        print(date)"
   ]
  },
  {
   "cell_type": "code",
   "execution_count": 49,
   "metadata": {},
   "outputs": [
    {
     "data": {
      "text/html": [
       "<div>\n",
       "<style scoped>\n",
       "    .dataframe tbody tr th:only-of-type {\n",
       "        vertical-align: middle;\n",
       "    }\n",
       "\n",
       "    .dataframe tbody tr th {\n",
       "        vertical-align: top;\n",
       "    }\n",
       "\n",
       "    .dataframe thead th {\n",
       "        text-align: right;\n",
       "    }\n",
       "</style>\n",
       "<table border=\"1\" class=\"dataframe\">\n",
       "  <thead>\n",
       "    <tr style=\"text-align: right;\">\n",
       "      <th></th>\n",
       "      <th>prices</th>\n",
       "      <th>compound</th>\n",
       "      <th>neg</th>\n",
       "      <th>neu</th>\n",
       "      <th>pos</th>\n",
       "    </tr>\n",
       "  </thead>\n",
       "  <tbody>\n",
       "    <tr>\n",
       "      <td>2010-01-01</td>\n",
       "      <td>10467</td>\n",
       "      <td>-0.9853</td>\n",
       "      <td>0.147</td>\n",
       "      <td>0.748</td>\n",
       "      <td>0.104</td>\n",
       "    </tr>\n",
       "    <tr>\n",
       "      <td>2010-01-02</td>\n",
       "      <td>10506</td>\n",
       "      <td>-0.8377</td>\n",
       "      <td>0.122</td>\n",
       "      <td>0.778</td>\n",
       "      <td>0.1</td>\n",
       "    </tr>\n",
       "    <tr>\n",
       "      <td>2010-01-03</td>\n",
       "      <td>10544</td>\n",
       "      <td>-0.9858</td>\n",
       "      <td>0.184</td>\n",
       "      <td>0.713</td>\n",
       "      <td>0.103</td>\n",
       "    </tr>\n",
       "    <tr>\n",
       "      <td>2010-01-04</td>\n",
       "      <td>10583</td>\n",
       "      <td>-0.9941</td>\n",
       "      <td>0.128</td>\n",
       "      <td>0.779</td>\n",
       "      <td>0.093</td>\n",
       "    </tr>\n",
       "    <tr>\n",
       "      <td>2010-01-05</td>\n",
       "      <td>10572</td>\n",
       "      <td>-0.9962</td>\n",
       "      <td>0.123</td>\n",
       "      <td>0.789</td>\n",
       "      <td>0.088</td>\n",
       "    </tr>\n",
       "  </tbody>\n",
       "</table>\n",
       "</div>"
      ],
      "text/plain": [
       "            prices compound    neg    neu    pos\n",
       "2010-01-01   10467  -0.9853  0.147  0.748  0.104\n",
       "2010-01-02   10506  -0.8377  0.122  0.778    0.1\n",
       "2010-01-03   10544  -0.9858  0.184  0.713  0.103\n",
       "2010-01-04   10583  -0.9941  0.128  0.779  0.093\n",
       "2010-01-05   10572  -0.9962  0.123  0.789  0.088"
      ]
     },
     "execution_count": 49,
     "metadata": {},
     "output_type": "execute_result"
    }
   ],
   "source": [
    "# 뉴욕 타임즈 뉴스 기사 데이터셋에 대한 정서 점수을 얻었다.\n",
    "df.head()"
   ]
  },
  {
   "cell_type": "markdown",
   "metadata": {},
   "source": [
    "# 6. 머신러닝 알고리즘 선택\n",
    "- 주가 예측은 시계열 분석에 대한 문제이다.\n",
    "- Baseline Model은 랜덤포레스트 회귀로 정하고 진행한다."
   ]
  },
  {
   "cell_type": "markdown",
   "metadata": {},
   "source": [
    "## 6-1) Train set과 Test set 분할"
   ]
  },
  {
   "cell_type": "code",
   "execution_count": 50,
   "metadata": {},
   "outputs": [],
   "source": [
    "# 2010년부터 2017년까지 8년분 데이터를 Train set으로 지정한다.\n",
    "train_start_date = '2010-01-01'\n",
    "train_end_date = '2017-12-31'\n",
    "# 2018년부터 2019년까지 2년분 데이터를 Test set으로 지정한다.\n",
    "test_start_date = '2018-01-01'\n",
    "test_end_date = '2019-12-31'\n",
    "train = df.loc[train_start_date : train_end_date]\n",
    "test = df.loc[test_start_date:test_end_date]"
   ]
  },
  {
   "cell_type": "markdown",
   "metadata": {},
   "source": [
    "## 6-2) Train, Test set 예측 레이블 분할\n",
    "- Train 및 Test set을 분리할 때 수정 종가를 별도로 저장해야한다.\n",
    "- 이 가격 값은 Train data의 레이블이며, 이 모델은 실제 가격을 레이블 형식으로 제공하므로 지도 학습이된다."
   ]
  },
  {
   "cell_type": "code",
   "execution_count": 51,
   "metadata": {},
   "outputs": [],
   "source": [
    "y_train = pd.DataFrame(train['prices'])\n",
    "y_test = pd.DataFrame(test['prices'])"
   ]
  },
  {
   "cell_type": "markdown",
   "metadata": {},
   "source": [
    "## 6-3) 정서 점수를 Numpy 배열로 변환\n",
    "- 학습을 시작하기 전에 정서 분석 점수들을 넘파이 배열 형식으로 변환한다.\n",
    "- 가격 특성을 예측 레이블로 설정하면 특징 벡터에 정서 점수와 날짜만 포함되기 때문이다."
   ]
  },
  {
   "cell_type": "code",
   "execution_count": null,
   "metadata": {},
   "outputs": [],
   "source": [
    "sentiment_score_list = []\n",
    "for date, row in train.T.iteritems():\n",
    "    #sentiment_score = np.asarray([df.loc[date, 'compound'],\n",
    "                                  #df.loc[date, 'neg'],df.loc[date, 'neu'],df.loc[date, 'pos']])\n",
    "    sentiment_score = np.asarray([df.loc[date, 'neg'],df.loc[date, 'pos']])\n",
    "    sentiment_score_list.append(sentiment_score)\n",
    "numpy_df_train = np.array(sentiment_score_list)"
   ]
  },
  {
   "cell_type": "code",
   "execution_count": 86,
   "metadata": {},
   "outputs": [],
   "source": [
    "sentiment_score_list = []\n",
    "for date, row in test.T.iteritems():\n",
    "    sentiment_score = [df.loc[date, 'neg'],df.loc[date, 'pos']]\n",
    "    sentiment_score_list.append(sentiment_score)\n",
    "numpy_df_test = np.asarray(sentiment_score_list)"
   ]
  },
  {
   "cell_type": "code",
   "execution_count": null,
   "metadata": {},
   "outputs": [],
   "source": [
    "from treeinterpreter import treeinterpreter as ti\n",
    "from sklearn.tree import DecisionTreeRegressor\n",
    "from sklearn.ensemble import RandomForestRegressor\n",
    "from sklearn.metrics import classification_report,confusion_matrix\n",
    "\n",
    "rf = RandomForestRegressor()\n",
    "rf.fit(numpy_df_train, y_train)"
   ]
  },
  {
   "cell_type": "markdown",
   "metadata": {},
   "source": [
    "## 6-4) 머신러닝 모델 훈련"
   ]
  }
 ],
 "metadata": {
  "kernelspec": {
   "display_name": "Python 3",
   "language": "python",
   "name": "python3"
  },
  "language_info": {
   "codemirror_mode": {
    "name": "ipython",
    "version": 3
   },
   "file_extension": ".py",
   "mimetype": "text/x-python",
   "name": "python",
   "nbconvert_exporter": "python",
   "pygments_lexer": "ipython3",
   "version": "3.7.4"
  }
 },
 "nbformat": 4,
 "nbformat_minor": 4
}
