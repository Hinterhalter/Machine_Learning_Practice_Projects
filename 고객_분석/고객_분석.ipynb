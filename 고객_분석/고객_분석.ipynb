{
 "cells": [
  {
   "cell_type": "markdown",
   "metadata": {},
   "source": [
    "# __고객 분석__\n",
    "- __고객 분석(customer analysis)__이란 고객의 행동 데이터를 통해 시장을 세분화하고 예측 분석을 함으로써 가장 중요한 사업상 결정을 이끌어내는 과정을 말한다.\n",
    "- __시장 세분화(market segmentation)__란 사용자 행동과 다른 유형의 공유 특성을 기반으로 사용자 기반 군집으로 나누는 과정을 말한다.\n",
    "- 이는 각 __사용자 부문(user segment)__별로 맞춤형 제품을 제공하는 데 도움이 된다.\n",
    "- 회사들은 다이렉트 마케팅(direct marketing), 부지 선정(site selection), 고객 확보(customer acquisition), 고객 관계 관리(customer relationship management, CRM)를 위해 시장 세분화 및 예측 모델에 의해 생성된 결과를 활용할 수 있다.\n",
    "\n",
    "### index\n",
    "\n",
    "- 연구문제 진술 소개\n",
    "- 데이터셋 이해\n",
    "- 고객 세분화를 위한 기준 접근법 구축 :\n",
    "    - 기준 접근법 구현\n",
    "    - 테스트 계량 이해\n",
    "    - 기준 접근법의 결과 테스트\n",
    "    - 기준 접근법의 문제점\n",
    "    - 기준 접근법 최적화\n",
    "- 고객 세분화를 위한 개선 접근법 구축 :\n",
    "    - 개선 접근법 구현\n",
    "    - 개선 접근법 테스트\n",
    "    - 개선 접근법 문제점\n",
    "    - 개선 접근법을 개선하는 방법 이해\n",
    "- 고객 세분화를 위한 최선 접근법 :\n",
    "    - 최선 접근법 구현\n",
    "- 최선 접근법 테스트\n",
    "- 다양한 분야에 대한 고객 세분화"
   ]
  },
  {
   "cell_type": "markdown",
   "metadata": {},
   "source": [
    "# 1. 연구문제 소개\n",
    "- 연구문제 :\n",
    "    1. 고객의 구매 패턴에 따라 특정 부문에 고객을 범주화할 수 있다.\n",
    "    2. 고객 세분화를 기준으로 향후에 어떤 제품을 구매할지를 예측할 수 있다.\n",
    "- Input Data : 고객 4000명의 전자상거래 데이터(1년간의 구매 데이터)\n",
    "- Output : \n",
    "    1. 고객 기반의 고객 부문 분류\n",
    "    2. 고객의 첫번째 구매를 기준으로 금년과 내년의 구매를 예측"
   ]
  },
  {
   "cell_type": "markdown",
   "metadata": {},
   "source": [
    "# 2. 데이터셋의 이해\n",
    "\n",
    "- The UCI Machine Learning Repository에서 제공하는 Online Retail Dataset : 영국 소매 업체의 실제 거래 데이터\n",
    "- 2010년 12월 1일부터 2011년 12월 9일까지의 실제 거래 데이터\n",
    "- 사계절용 선물 판매에 대한 기록\n",
    "- 소비자는 대체로 도매업체이다.\n",
    "- 532,610개의 레코드"
   ]
  },
  {
   "cell_type": "markdown",
   "metadata": {},
   "source": [
    "|변수명|설명|비고|\n",
    "|:-----|:------|:------|\n",
    "|1. InvoiceNo|송장번호|6자리 정수. 고유번호. c로 시작하면 취소를 나타낸다.|\n",
    "|2. StockCode|재고번호|5자리 정수. 각 제품에 고유하게 지정된다.|\n",
    "|3. Description|품목설명||\n",
    "|4. Quantity|거래당 각 제품의 수량|숫자형식|\n",
    "|5. InvoiceDate|송장 날짜와 시간|각 거래가 생성된 날짜와 시간|\n",
    "|6. UnitPrice|단위 당 가격|영국 파운드화|\n",
    "|7. CustomerID|고객 ID 번호|각 고객에게 할당된 고유5자리 번호|\n",
    "|8. Country|고객의 지리적 정보|고객의 나라이름|"
   ]
  },
  {
   "cell_type": "markdown",
   "metadata": {},
   "source": [
    "# 3. Baseline 구현"
   ]
  },
  {
   "cell_type": "code",
   "execution_count": 5,
   "metadata": {},
   "outputs": [],
   "source": [
    "from __future__ import division\n",
    "import pandas as pd\n",
    "import numpy as np\n",
    "import matplotlib as mpl\n",
    "import matplotlib.pyplot as plt\n",
    "import seaborn as sns\n",
    "import datetime, nltk, warnings\n",
    "import matplotlib.cm as cm\n",
    "import itertools\n",
    "from pathlib import Path\n",
    "from sklearn.preprocessing import StandardScaler\n",
    "from sklearn.cluster import KMeans\n",
    "from sklearn.metrics import silhouette_samples, silhouette_score\n",
    "from sklearn import preprocessing, model_selection, metrics, feature_selection\n",
    "from sklearn.model_selection import GridSearchCV, learning_curve\n",
    "from sklearn.svm import SVC\n",
    "from sklearn.metrics import confusion_matrix\n",
    "from sklearn import neighbors, linear_model, svm, tree, ensemble\n",
    "from wordcloud import WordCloud, STOPWORDS\n",
    "from sklearn.ensemble import AdaBoostClassifier\n",
    "from sklearn.decomposition import PCA\n",
    "from IPython.display import display, HTML"
   ]
  },
  {
   "cell_type": "markdown",
   "metadata": {},
   "source": [
    "## 3-1) 데이터 준비"
   ]
  },
  {
   "cell_type": "code",
   "execution_count": 6,
   "metadata": {},
   "outputs": [
    {
     "name": "stdout",
     "output_type": "stream",
     "text": [
      "DataFrame dimensions: (541909, 8)\n"
     ]
    }
   ],
   "source": [
    "df_init = pd.read_csv(\"./data/data.csv\",\n",
    "                      encoding=\"ISO-8859-1\",\n",
    "                     dtype={'CustomerID':str, 'InvoiceID':str})\n",
    "print(\"DataFrame dimensions:\", df_init.shape)\n",
    "df_init['InvoiceDate'] = pd.to_datetime(df_init['InvoiceDate'])"
   ]
  },
  {
   "cell_type": "code",
   "execution_count": 7,
   "metadata": {},
   "outputs": [
    {
     "data": {
      "text/html": [
       "<div>\n",
       "<style scoped>\n",
       "    .dataframe tbody tr th:only-of-type {\n",
       "        vertical-align: middle;\n",
       "    }\n",
       "\n",
       "    .dataframe tbody tr th {\n",
       "        vertical-align: top;\n",
       "    }\n",
       "\n",
       "    .dataframe thead th {\n",
       "        text-align: right;\n",
       "    }\n",
       "</style>\n",
       "<table border=\"1\" class=\"dataframe\">\n",
       "  <thead>\n",
       "    <tr style=\"text-align: right;\">\n",
       "      <th></th>\n",
       "      <th>InvoiceNo</th>\n",
       "      <th>StockCode</th>\n",
       "      <th>Description</th>\n",
       "      <th>Quantity</th>\n",
       "      <th>InvoiceDate</th>\n",
       "      <th>UnitPrice</th>\n",
       "      <th>CustomerID</th>\n",
       "      <th>Country</th>\n",
       "    </tr>\n",
       "  </thead>\n",
       "  <tbody>\n",
       "    <tr>\n",
       "      <th>0</th>\n",
       "      <td>536365</td>\n",
       "      <td>85123A</td>\n",
       "      <td>WHITE HANGING HEART T-LIGHT HOLDER</td>\n",
       "      <td>6</td>\n",
       "      <td>2010-12-01 08:26:00</td>\n",
       "      <td>2.55</td>\n",
       "      <td>17850</td>\n",
       "      <td>United Kingdom</td>\n",
       "    </tr>\n",
       "    <tr>\n",
       "      <th>1</th>\n",
       "      <td>536365</td>\n",
       "      <td>71053</td>\n",
       "      <td>WHITE METAL LANTERN</td>\n",
       "      <td>6</td>\n",
       "      <td>2010-12-01 08:26:00</td>\n",
       "      <td>3.39</td>\n",
       "      <td>17850</td>\n",
       "      <td>United Kingdom</td>\n",
       "    </tr>\n",
       "    <tr>\n",
       "      <th>2</th>\n",
       "      <td>536365</td>\n",
       "      <td>84406B</td>\n",
       "      <td>CREAM CUPID HEARTS COAT HANGER</td>\n",
       "      <td>8</td>\n",
       "      <td>2010-12-01 08:26:00</td>\n",
       "      <td>2.75</td>\n",
       "      <td>17850</td>\n",
       "      <td>United Kingdom</td>\n",
       "    </tr>\n",
       "    <tr>\n",
       "      <th>3</th>\n",
       "      <td>536365</td>\n",
       "      <td>84029G</td>\n",
       "      <td>KNITTED UNION FLAG HOT WATER BOTTLE</td>\n",
       "      <td>6</td>\n",
       "      <td>2010-12-01 08:26:00</td>\n",
       "      <td>3.39</td>\n",
       "      <td>17850</td>\n",
       "      <td>United Kingdom</td>\n",
       "    </tr>\n",
       "    <tr>\n",
       "      <th>4</th>\n",
       "      <td>536365</td>\n",
       "      <td>84029E</td>\n",
       "      <td>RED WOOLLY HOTTIE WHITE HEART.</td>\n",
       "      <td>6</td>\n",
       "      <td>2010-12-01 08:26:00</td>\n",
       "      <td>3.39</td>\n",
       "      <td>17850</td>\n",
       "      <td>United Kingdom</td>\n",
       "    </tr>\n",
       "  </tbody>\n",
       "</table>\n",
       "</div>"
      ],
      "text/plain": [
       "  InvoiceNo StockCode                          Description  Quantity  \\\n",
       "0    536365    85123A   WHITE HANGING HEART T-LIGHT HOLDER         6   \n",
       "1    536365     71053                  WHITE METAL LANTERN         6   \n",
       "2    536365    84406B       CREAM CUPID HEARTS COAT HANGER         8   \n",
       "3    536365    84029G  KNITTED UNION FLAG HOT WATER BOTTLE         6   \n",
       "4    536365    84029E       RED WOOLLY HOTTIE WHITE HEART.         6   \n",
       "\n",
       "          InvoiceDate  UnitPrice CustomerID         Country  \n",
       "0 2010-12-01 08:26:00       2.55      17850  United Kingdom  \n",
       "1 2010-12-01 08:26:00       3.39      17850  United Kingdom  \n",
       "2 2010-12-01 08:26:00       2.75      17850  United Kingdom  \n",
       "3 2010-12-01 08:26:00       3.39      17850  United Kingdom  \n",
       "4 2010-12-01 08:26:00       3.39      17850  United Kingdom  "
      ]
     },
     "execution_count": 7,
     "metadata": {},
     "output_type": "execute_result"
    }
   ],
   "source": [
    "df_init.head()"
   ]
  },
  {
   "cell_type": "markdown",
   "metadata": {},
   "source": [
    "## 3-2) EDA"
   ]
  },
  {
   "cell_type": "markdown",
   "metadata": {},
   "source": [
    "### a. 결측치 제거"
   ]
  },
  {
   "cell_type": "code",
   "execution_count": 8,
   "metadata": {},
   "outputs": [
    {
     "name": "stdout",
     "output_type": "stream",
     "text": [
      "---------- Display information about column types and number of null values ----------\n"
     ]
    },
    {
     "data": {
      "text/html": [
       "<div>\n",
       "<style scoped>\n",
       "    .dataframe tbody tr th:only-of-type {\n",
       "        vertical-align: middle;\n",
       "    }\n",
       "\n",
       "    .dataframe tbody tr th {\n",
       "        vertical-align: top;\n",
       "    }\n",
       "\n",
       "    .dataframe thead th {\n",
       "        text-align: right;\n",
       "    }\n",
       "</style>\n",
       "<table border=\"1\" class=\"dataframe\">\n",
       "  <thead>\n",
       "    <tr style=\"text-align: right;\">\n",
       "      <th></th>\n",
       "      <th>InvoiceNo</th>\n",
       "      <th>StockCode</th>\n",
       "      <th>Description</th>\n",
       "      <th>Quantity</th>\n",
       "      <th>InvoiceDate</th>\n",
       "      <th>UnitPrice</th>\n",
       "      <th>CustomerID</th>\n",
       "      <th>Country</th>\n",
       "    </tr>\n",
       "  </thead>\n",
       "  <tbody>\n",
       "    <tr>\n",
       "      <th>column type</th>\n",
       "      <td>object</td>\n",
       "      <td>object</td>\n",
       "      <td>object</td>\n",
       "      <td>int64</td>\n",
       "      <td>datetime64[ns]</td>\n",
       "      <td>float64</td>\n",
       "      <td>object</td>\n",
       "      <td>object</td>\n",
       "    </tr>\n",
       "    <tr>\n",
       "      <th>null values (nb)</th>\n",
       "      <td>0</td>\n",
       "      <td>0</td>\n",
       "      <td>1454</td>\n",
       "      <td>0</td>\n",
       "      <td>0</td>\n",
       "      <td>0</td>\n",
       "      <td>135080</td>\n",
       "      <td>0</td>\n",
       "    </tr>\n",
       "    <tr>\n",
       "      <th>null values (%)</th>\n",
       "      <td>0</td>\n",
       "      <td>0</td>\n",
       "      <td>0.268311</td>\n",
       "      <td>0</td>\n",
       "      <td>0</td>\n",
       "      <td>0</td>\n",
       "      <td>24.9267</td>\n",
       "      <td>0</td>\n",
       "    </tr>\n",
       "  </tbody>\n",
       "</table>\n",
       "</div>"
      ],
      "text/plain": [
       "                 InvoiceNo StockCode Description Quantity     InvoiceDate  \\\n",
       "column type         object    object      object    int64  datetime64[ns]   \n",
       "null values (nb)         0         0        1454        0               0   \n",
       "null values (%)          0         0    0.268311        0               0   \n",
       "\n",
       "                 UnitPrice CustomerID Country  \n",
       "column type        float64     object  object  \n",
       "null values (nb)         0     135080       0  \n",
       "null values (%)          0    24.9267       0  "
      ]
     },
     "execution_count": 8,
     "metadata": {},
     "output_type": "execute_result"
    }
   ],
   "source": [
    "tab_info=pd.DataFrame(df_init.dtypes).T.rename(index={0:'column type'})\n",
    "tab_info=tab_info.append(pd.DataFrame(df_init.isnull().sum()).T.rename(index={0:'null values (nb)'}))\n",
    "tab_info=tab_info.append(pd.DataFrame(df_init.isnull().sum()/df_init.shape[0]*100).T.\n",
    "                         rename(index={0:'null values (%)'}))\n",
    "print('-' * 10 + \" Display information about column types and number of null values \" + '-' * 10 )\n",
    "tab_info"
   ]
  },
  {
   "cell_type": "markdown",
   "metadata": {},
   "source": [
    "- 결측치 정보를 살펴보면 CustomerID 중 24%의 데이터가 CustomerID가 없는 것을 알 수 있다.\n",
    "- 이는 이상 종료 데이터 입력에 해당한다.\n",
    "- 기존의 CustomerID에 대응시킬 수 없기때문에 이 데이터들은 삭제한다."
   ]
  },
  {
   "cell_type": "code",
   "execution_count": 9,
   "metadata": {},
   "outputs": [
    {
     "name": "stdout",
     "output_type": "stream",
     "text": [
      "Dataframe dimensions: (406829, 8)\n",
      "---------- Display information about column types and number of null values ----------\n"
     ]
    },
    {
     "data": {
      "text/html": [
       "<div>\n",
       "<style scoped>\n",
       "    .dataframe tbody tr th:only-of-type {\n",
       "        vertical-align: middle;\n",
       "    }\n",
       "\n",
       "    .dataframe tbody tr th {\n",
       "        vertical-align: top;\n",
       "    }\n",
       "\n",
       "    .dataframe thead th {\n",
       "        text-align: right;\n",
       "    }\n",
       "</style>\n",
       "<table border=\"1\" class=\"dataframe\">\n",
       "  <thead>\n",
       "    <tr style=\"text-align: right;\">\n",
       "      <th></th>\n",
       "      <th>InvoiceNo</th>\n",
       "      <th>StockCode</th>\n",
       "      <th>Description</th>\n",
       "      <th>Quantity</th>\n",
       "      <th>InvoiceDate</th>\n",
       "      <th>UnitPrice</th>\n",
       "      <th>CustomerID</th>\n",
       "      <th>Country</th>\n",
       "    </tr>\n",
       "  </thead>\n",
       "  <tbody>\n",
       "    <tr>\n",
       "      <th>column type</th>\n",
       "      <td>object</td>\n",
       "      <td>object</td>\n",
       "      <td>object</td>\n",
       "      <td>int64</td>\n",
       "      <td>datetime64[ns]</td>\n",
       "      <td>float64</td>\n",
       "      <td>object</td>\n",
       "      <td>object</td>\n",
       "    </tr>\n",
       "    <tr>\n",
       "      <th>null values (nb)</th>\n",
       "      <td>0</td>\n",
       "      <td>0</td>\n",
       "      <td>0</td>\n",
       "      <td>0</td>\n",
       "      <td>0</td>\n",
       "      <td>0</td>\n",
       "      <td>0</td>\n",
       "      <td>0</td>\n",
       "    </tr>\n",
       "    <tr>\n",
       "      <th>null values (%)</th>\n",
       "      <td>0</td>\n",
       "      <td>0</td>\n",
       "      <td>0</td>\n",
       "      <td>0</td>\n",
       "      <td>0</td>\n",
       "      <td>0</td>\n",
       "      <td>0</td>\n",
       "      <td>0</td>\n",
       "    </tr>\n",
       "  </tbody>\n",
       "</table>\n",
       "</div>"
      ],
      "text/plain": [
       "                 InvoiceNo StockCode Description Quantity     InvoiceDate  \\\n",
       "column type         object    object      object    int64  datetime64[ns]   \n",
       "null values (nb)         0         0           0        0               0   \n",
       "null values (%)          0         0           0        0               0   \n",
       "\n",
       "                 UnitPrice CustomerID Country  \n",
       "column type        float64     object  object  \n",
       "null values (nb)         0          0       0  \n",
       "null values (%)          0          0       0  "
      ]
     },
     "execution_count": 9,
     "metadata": {},
     "output_type": "execute_result"
    }
   ],
   "source": [
    "df_init.dropna(axis = 0, subset = ['CustomerID'], inplace = True)\n",
    "print('Dataframe dimensions:', df_init.shape)\n",
    "tab_info=pd.DataFrame(df_init.dtypes).T.rename(index={0:'column type'})\n",
    "tab_info=tab_info.append(pd.DataFrame(df_init.isnull().sum()).T.rename(index={0:'null values (nb)'}))\n",
    "tab_info=tab_info.append(pd.DataFrame(df_init.isnull().sum()/df_init.shape[0]*100).T.\n",
    "                         rename(index={0:'null values (%)'}))\n",
    "print('-' * 10 + \" Display information about column types and number of null values \" + '-' * 10 )\n",
    "tab_info"
   ]
  },
  {
   "cell_type": "markdown",
   "metadata": {},
   "source": [
    "### b. 중복 데이터 입력 제거"
   ]
  },
  {
   "cell_type": "code",
   "execution_count": 10,
   "metadata": {},
   "outputs": [
    {
     "name": "stdout",
     "output_type": "stream",
     "text": [
      "Duplicate data entries: 5225\n"
     ]
    }
   ],
   "source": [
    "# 중복되는 5225개의 데이터를 삭제\n",
    "print('Duplicate data entries: {}'.format(df_init.duplicated().sum()))\n",
    "df_init.drop_duplicates(inplace = True)"
   ]
  },
  {
   "cell_type": "markdown",
   "metadata": {},
   "source": [
    "### c. 다양한 데이터 특성을 위한 EDA"
   ]
  },
  {
   "cell_type": "markdown",
   "metadata": {},
   "source": [
    "#### 1) 국가별"
   ]
  },
  {
   "cell_type": "code",
   "execution_count": 11,
   "metadata": {},
   "outputs": [
    {
     "name": "stdout",
     "output_type": "stream",
     "text": [
      "No. of cuntries in dataframe: 37\n"
     ]
    }
   ],
   "source": [
    "temp = df_init[['CustomerID', 'InvoiceNo','Country']].groupby(['CustomerID','InvoiceNo','Country']).count()\n",
    "temp = temp.reset_index(drop=False)\n",
    "countries = temp['Country'].value_counts()\n",
    "print('No. of cuntries in dataframe: {}'.format(len(countries)))"
   ]
  },
  {
   "cell_type": "code",
   "execution_count": 12,
   "metadata": {},
   "outputs": [
    {
     "name": "stdout",
     "output_type": "stream",
     "text": [
      "---------- Contry-wise order calculation ----------\n",
      "                 Country  Country wise number of order\n",
      "35        United Kingdom                        356728\n",
      "14               Germany                          9480\n",
      "13                France                          8475\n",
      "10                  EIRE                          7475\n",
      "30                 Spain                          2528\n",
      "23           Netherlands                          2371\n",
      "3                Belgium                          2069\n",
      "32           Switzerland                          1877\n",
      "26              Portugal                          1471\n",
      "0              Australia                          1258\n",
      "24                Norway                          1086\n",
      "18                 Italy                           803\n",
      "6        Channel Islands                           757\n",
      "12               Finland                           695\n",
      "7                 Cyprus                           611\n",
      "31                Sweden                           461\n",
      "1                Austria                           401\n",
      "9                Denmark                           389\n",
      "19                 Japan                           358\n",
      "25                Poland                           341\n",
      "33                   USA                           291\n",
      "17                Israel                           247\n",
      "36           Unspecified                           241\n",
      "29             Singapore                           229\n",
      "16               Iceland                           182\n",
      "5                 Canada                           151\n",
      "15                Greece                           146\n",
      "22                 Malta                           127\n",
      "34  United Arab Emirates                            68\n",
      "11    European Community                            61\n",
      "27                   RSA                            58\n",
      "20               Lebanon                            45\n",
      "21             Lithuania                            35\n",
      "4                 Brazil                            32\n",
      "8         Czech Republic                            30\n",
      "2                Bahrain                            17\n",
      "28          Saudi Arabia                            10\n"
     ]
    }
   ],
   "source": [
    "temp_no_of_order_per_count = df_init[['CustomerID','Country']].groupby(['Country']).count()\n",
    "temp_no_of_order_per_count = temp_no_of_order_per_count.reset_index(drop = False)\n",
    "\n",
    "print('-' * 10 + \" Contry-wise order calculation \"+ '-' * 10)\n",
    "print\n",
    "print (temp_no_of_order_per_count.sort_values(\n",
    "    by='CustomerID', ascending=False).rename(index=str,\n",
    "                                        columns={\"CustomerID\": \"Country wise number of order\"}))"
   ]
  },
  {
   "cell_type": "markdown",
   "metadata": {},
   "source": [
    "#### 2) 고객 및 제품 별"
   ]
  },
  {
   "cell_type": "code",
   "execution_count": 13,
   "metadata": {},
   "outputs": [
    {
     "data": {
      "text/html": [
       "<div>\n",
       "<style scoped>\n",
       "    .dataframe tbody tr th:only-of-type {\n",
       "        vertical-align: middle;\n",
       "    }\n",
       "\n",
       "    .dataframe tbody tr th {\n",
       "        vertical-align: top;\n",
       "    }\n",
       "\n",
       "    .dataframe thead th {\n",
       "        text-align: right;\n",
       "    }\n",
       "</style>\n",
       "<table border=\"1\" class=\"dataframe\">\n",
       "  <thead>\n",
       "    <tr style=\"text-align: right;\">\n",
       "      <th></th>\n",
       "      <th>products</th>\n",
       "      <th>transactions</th>\n",
       "      <th>customers</th>\n",
       "    </tr>\n",
       "  </thead>\n",
       "  <tbody>\n",
       "    <tr>\n",
       "      <th>quantity</th>\n",
       "      <td>3684</td>\n",
       "      <td>22190</td>\n",
       "      <td>4372</td>\n",
       "    </tr>\n",
       "  </tbody>\n",
       "</table>\n",
       "</div>"
      ],
      "text/plain": [
       "          products  transactions  customers\n",
       "quantity      3684         22190       4372"
      ]
     },
     "execution_count": 13,
     "metadata": {},
     "output_type": "execute_result"
    }
   ],
   "source": [
    "# value_counts()함수를 이용하여 사용자와 제품의 수를 파악한다.\n",
    "\n",
    "pd.DataFrame([{'products': len(df_init['StockCode'].value_counts()),    \n",
    "               'transactions': len(df_init['InvoiceNo'].value_counts()),\n",
    "               'customers': len(df_init['CustomerID'].value_counts()),  \n",
    "              }], columns = ['products', 'transactions', 'customers'], \n",
    "              index = ['quantity'])"
   ]
  },
  {
   "cell_type": "code",
   "execution_count": 14,
   "metadata": {},
   "outputs": [
    {
     "data": {
      "text/html": [
       "<div>\n",
       "<style scoped>\n",
       "    .dataframe tbody tr th:only-of-type {\n",
       "        vertical-align: middle;\n",
       "    }\n",
       "\n",
       "    .dataframe tbody tr th {\n",
       "        vertical-align: top;\n",
       "    }\n",
       "\n",
       "    .dataframe thead th {\n",
       "        text-align: right;\n",
       "    }\n",
       "</style>\n",
       "<table border=\"1\" class=\"dataframe\">\n",
       "  <thead>\n",
       "    <tr style=\"text-align: right;\">\n",
       "      <th></th>\n",
       "      <th>CustomerID</th>\n",
       "      <th>InvoiceNo</th>\n",
       "      <th>Number of products</th>\n",
       "    </tr>\n",
       "  </thead>\n",
       "  <tbody>\n",
       "    <tr>\n",
       "      <th>0</th>\n",
       "      <td>12346</td>\n",
       "      <td>541431</td>\n",
       "      <td>1</td>\n",
       "    </tr>\n",
       "    <tr>\n",
       "      <th>1</th>\n",
       "      <td>12346</td>\n",
       "      <td>C541433</td>\n",
       "      <td>1</td>\n",
       "    </tr>\n",
       "    <tr>\n",
       "      <th>2</th>\n",
       "      <td>12347</td>\n",
       "      <td>537626</td>\n",
       "      <td>31</td>\n",
       "    </tr>\n",
       "    <tr>\n",
       "      <th>3</th>\n",
       "      <td>12347</td>\n",
       "      <td>542237</td>\n",
       "      <td>29</td>\n",
       "    </tr>\n",
       "    <tr>\n",
       "      <th>4</th>\n",
       "      <td>12347</td>\n",
       "      <td>549222</td>\n",
       "      <td>24</td>\n",
       "    </tr>\n",
       "    <tr>\n",
       "      <th>5</th>\n",
       "      <td>12347</td>\n",
       "      <td>556201</td>\n",
       "      <td>18</td>\n",
       "    </tr>\n",
       "    <tr>\n",
       "      <th>6</th>\n",
       "      <td>12347</td>\n",
       "      <td>562032</td>\n",
       "      <td>22</td>\n",
       "    </tr>\n",
       "    <tr>\n",
       "      <th>7</th>\n",
       "      <td>12347</td>\n",
       "      <td>573511</td>\n",
       "      <td>47</td>\n",
       "    </tr>\n",
       "    <tr>\n",
       "      <th>8</th>\n",
       "      <td>12347</td>\n",
       "      <td>581180</td>\n",
       "      <td>11</td>\n",
       "    </tr>\n",
       "    <tr>\n",
       "      <th>9</th>\n",
       "      <td>12348</td>\n",
       "      <td>539318</td>\n",
       "      <td>17</td>\n",
       "    </tr>\n",
       "  </tbody>\n",
       "</table>\n",
       "</div>"
      ],
      "text/plain": [
       "  CustomerID InvoiceNo  Number of products\n",
       "0      12346    541431                   1\n",
       "1      12346   C541433                   1\n",
       "2      12347    537626                  31\n",
       "3      12347    542237                  29\n",
       "4      12347    549222                  24\n",
       "5      12347    556201                  18\n",
       "6      12347    562032                  22\n",
       "7      12347    573511                  47\n",
       "8      12347    581180                  11\n",
       "9      12348    539318                  17"
      ]
     },
     "execution_count": 14,
     "metadata": {},
     "output_type": "execute_result"
    }
   ],
   "source": [
    "# 얼마나 많은 제품이 매 거래마다 구매되었는지 확인한다.\n",
    "# InvoiceNo와 InvoiceDate 데이터 특성을 이용하여 모든 거래에서 구매한 제품 수를 계산한다.\n",
    "temp = df_init.groupby(by=['CustomerID', 'InvoiceNo'], as_index=False)['InvoiceDate'].count()\n",
    "nb_products_per_basket = temp.rename(columns = {'InvoiceDate':'Number of products'})\n",
    "nb_products_per_basket[:10].sort_values('CustomerID')"
   ]
  },
  {
   "cell_type": "markdown",
   "metadata": {},
   "source": [
    "- CustomerID 12346번을 보면 한가지 상품을 한번 구매한 경우도 존재한다는 것을 알 수 있다.\n",
    "- 또한 InvoiceNo에 C가 붙어있는 것을 보면 거래를 취소한 경우도 있다는 것을 알 수 있다.\n",
    "- CustomerID 12347을 보면 한 사용자가 여러가지 물건을 여러번 구입했다는 것을 확인 할 수 있다."
   ]
  },
  {
   "cell_type": "markdown",
   "metadata": {},
   "source": [
    "#### 3) 제품 범주 별"
   ]
  },
  {
   "cell_type": "code",
   "execution_count": 17,
   "metadata": {},
   "outputs": [
    {
     "data": {
      "text/html": [
       "<div>\n",
       "<style scoped>\n",
       "    .dataframe tbody tr th:only-of-type {\n",
       "        vertical-align: middle;\n",
       "    }\n",
       "\n",
       "    .dataframe tbody tr th {\n",
       "        vertical-align: top;\n",
       "    }\n",
       "\n",
       "    .dataframe thead th {\n",
       "        text-align: right;\n",
       "    }\n",
       "</style>\n",
       "<table border=\"1\" class=\"dataframe\">\n",
       "  <thead>\n",
       "    <tr style=\"text-align: right;\">\n",
       "      <th></th>\n",
       "      <th>CustomerID</th>\n",
       "      <th>InvoiceNo</th>\n",
       "      <th>Number of products</th>\n",
       "      <th>order_cancelled</th>\n",
       "    </tr>\n",
       "  </thead>\n",
       "  <tbody>\n",
       "    <tr>\n",
       "      <th>0</th>\n",
       "      <td>12346</td>\n",
       "      <td>541431</td>\n",
       "      <td>1</td>\n",
       "      <td>0</td>\n",
       "    </tr>\n",
       "    <tr>\n",
       "      <th>1</th>\n",
       "      <td>12346</td>\n",
       "      <td>C541433</td>\n",
       "      <td>1</td>\n",
       "      <td>1</td>\n",
       "    </tr>\n",
       "    <tr>\n",
       "      <th>2</th>\n",
       "      <td>12347</td>\n",
       "      <td>537626</td>\n",
       "      <td>31</td>\n",
       "      <td>0</td>\n",
       "    </tr>\n",
       "    <tr>\n",
       "      <th>3</th>\n",
       "      <td>12347</td>\n",
       "      <td>542237</td>\n",
       "      <td>29</td>\n",
       "      <td>0</td>\n",
       "    </tr>\n",
       "    <tr>\n",
       "      <th>4</th>\n",
       "      <td>12347</td>\n",
       "      <td>549222</td>\n",
       "      <td>24</td>\n",
       "      <td>0</td>\n",
       "    </tr>\n",
       "  </tbody>\n",
       "</table>\n",
       "</div>"
      ],
      "text/plain": [
       "  CustomerID InvoiceNo  Number of products  order_cancelled\n",
       "0      12346    541431                   1                0\n",
       "1      12346   C541433                   1                1\n",
       "2      12347    537626                  31                0\n",
       "3      12347    542237                  29                0\n",
       "4      12347    549222                  24                0"
      ]
     },
     "metadata": {},
     "output_type": "display_data"
    },
    {
     "name": "stdout",
     "output_type": "stream",
     "text": [
      "취소된 주문건수 : 3654/22190 (16.47%) \n"
     ]
    }
   ],
   "source": [
    "# InvoiceNo에 C가 있으면 정수 1을 반환하는 람다함수를 사용하여 취소건수의 갯수를 파악한다.\n",
    "nb_products_per_basket['order_cancelled'] = nb_products_per_basket['InvoiceNo'].apply(lambda x: int('C' in x))\n",
    "display(nb_products_per_basket.head())\n",
    "\n",
    "n1 = nb_products_per_basket['order_cancelled'].sum()\n",
    "n2 = nb_products_per_basket.shape[0]\n",
    "percentage = (n1 / n2) * 100\n",
    "print('취소된 주문건수 : {}/{} ({:.2f}%) '.format(n1,n2,percentage))"
   ]
  },
  {
   "cell_type": "code",
   "execution_count": 18,
   "metadata": {},
   "outputs": [
    {
     "data": {
      "text/html": [
       "<div>\n",
       "<style scoped>\n",
       "    .dataframe tbody tr th:only-of-type {\n",
       "        vertical-align: middle;\n",
       "    }\n",
       "\n",
       "    .dataframe tbody tr th {\n",
       "        vertical-align: top;\n",
       "    }\n",
       "\n",
       "    .dataframe thead th {\n",
       "        text-align: right;\n",
       "    }\n",
       "</style>\n",
       "<table border=\"1\" class=\"dataframe\">\n",
       "  <thead>\n",
       "    <tr style=\"text-align: right;\">\n",
       "      <th></th>\n",
       "      <th>InvoiceNo</th>\n",
       "      <th>StockCode</th>\n",
       "      <th>Description</th>\n",
       "      <th>Quantity</th>\n",
       "      <th>InvoiceDate</th>\n",
       "      <th>UnitPrice</th>\n",
       "      <th>CustomerID</th>\n",
       "      <th>Country</th>\n",
       "    </tr>\n",
       "  </thead>\n",
       "  <tbody>\n",
       "    <tr>\n",
       "      <th>61619</th>\n",
       "      <td>541431</td>\n",
       "      <td>23166</td>\n",
       "      <td>MEDIUM CERAMIC TOP STORAGE JAR</td>\n",
       "      <td>74215</td>\n",
       "      <td>2011-01-18 10:01:00</td>\n",
       "      <td>1.04</td>\n",
       "      <td>12346</td>\n",
       "      <td>United Kingdom</td>\n",
       "    </tr>\n",
       "    <tr>\n",
       "      <th>61624</th>\n",
       "      <td>C541433</td>\n",
       "      <td>23166</td>\n",
       "      <td>MEDIUM CERAMIC TOP STORAGE JAR</td>\n",
       "      <td>-74215</td>\n",
       "      <td>2011-01-18 10:17:00</td>\n",
       "      <td>1.04</td>\n",
       "      <td>12346</td>\n",
       "      <td>United Kingdom</td>\n",
       "    </tr>\n",
       "    <tr>\n",
       "      <th>286623</th>\n",
       "      <td>562032</td>\n",
       "      <td>22375</td>\n",
       "      <td>AIRLINE BAG VINTAGE JET SET BROWN</td>\n",
       "      <td>4</td>\n",
       "      <td>2011-08-02 08:48:00</td>\n",
       "      <td>4.25</td>\n",
       "      <td>12347</td>\n",
       "      <td>Iceland</td>\n",
       "    </tr>\n",
       "    <tr>\n",
       "      <th>72260</th>\n",
       "      <td>542237</td>\n",
       "      <td>84991</td>\n",
       "      <td>60 TEATIME FAIRY CAKE CASES</td>\n",
       "      <td>24</td>\n",
       "      <td>2011-01-26 14:30:00</td>\n",
       "      <td>0.55</td>\n",
       "      <td>12347</td>\n",
       "      <td>Iceland</td>\n",
       "    </tr>\n",
       "    <tr>\n",
       "      <th>14943</th>\n",
       "      <td>537626</td>\n",
       "      <td>22772</td>\n",
       "      <td>PINK DRAWER KNOB ACRYLIC EDWARDIAN</td>\n",
       "      <td>12</td>\n",
       "      <td>2010-12-07 14:57:00</td>\n",
       "      <td>1.25</td>\n",
       "      <td>12347</td>\n",
       "      <td>Iceland</td>\n",
       "    </tr>\n",
       "  </tbody>\n",
       "</table>\n",
       "</div>"
      ],
      "text/plain": [
       "       InvoiceNo StockCode                         Description  Quantity  \\\n",
       "61619     541431     23166      MEDIUM CERAMIC TOP STORAGE JAR     74215   \n",
       "61624    C541433     23166      MEDIUM CERAMIC TOP STORAGE JAR    -74215   \n",
       "286623    562032     22375   AIRLINE BAG VINTAGE JET SET BROWN         4   \n",
       "72260     542237     84991         60 TEATIME FAIRY CAKE CASES        24   \n",
       "14943     537626     22772  PINK DRAWER KNOB ACRYLIC EDWARDIAN        12   \n",
       "\n",
       "               InvoiceDate  UnitPrice CustomerID         Country  \n",
       "61619  2011-01-18 10:01:00       1.04      12346  United Kingdom  \n",
       "61624  2011-01-18 10:17:00       1.04      12346  United Kingdom  \n",
       "286623 2011-08-02 08:48:00       4.25      12347         Iceland  \n",
       "72260  2011-01-26 14:30:00       0.55      12347         Iceland  \n",
       "14943  2010-12-07 14:57:00       1.25      12347         Iceland  "
      ]
     },
     "execution_count": 18,
     "metadata": {},
     "output_type": "execute_result"
    }
   ],
   "source": [
    "# 다시 원래 데이터로 돌아가서 취소 건들을 어떻게 처리할지에 대해 알아본다.\n",
    "df_init.sort_values('CustomerID').head()"
   ]
  },
  {
   "cell_type": "markdown",
   "metadata": {},
   "source": [
    "- 위의 데이터 일부를 통해 알 수 있듯이, 취소건의 경우 수량과 송장 날짜를 제외한 부분은 동일하다.\n",
    "- 먼저 모든 데이터가 이러한 경우를 만족하는지 확인한다.\n",
    "- 일부 할인 입력 내역도 있지만 할인 입력 내역은 버리는 것으로 한다."
   ]
  },
  {
   "cell_type": "code",
   "execution_count": 19,
   "metadata": {},
   "outputs": [],
   "source": [
    "df_check = df_init[df_init['Quantity'] < 0][['CustomerID','Quantity','StockCode','Description','UnitPrice']]"
   ]
  },
  {
   "cell_type": "code",
   "execution_count": 20,
   "metadata": {},
   "outputs": [
    {
     "name": "stdout",
     "output_type": "stream",
     "text": [
      "141 CustomerID        14527\n",
      "Quantity             -1\n",
      "StockCode             D\n",
      "Description    Discount\n",
      "UnitPrice          27.5\n",
      "Name: 141, dtype: object\n",
      "---------------> HYPOTHESIS NOT FULFILLED\n"
     ]
    }
   ],
   "source": [
    "for index, col in df_check.iterrows():\n",
    "    if df_init[(df_init['CustomerID'] == col[0]) & \n",
    "               (df_init['Quantity'] == -col[1]) & \n",
    "               (df_init['Description'] == col[2])].shape[0] == 0:\n",
    "        print(index, df_check.loc[index])\n",
    "        print(15*'-'+'>'+' HYPOTHESIS NOT FULFILLED')\n",
    "        break"
   ]
  },
  {
   "cell_type": "markdown",
   "metadata": {},
   "source": [
    "- 위의 코드를 실행하면 취소된 모든 거래에 유사한 입력이 없다는 것을 알 수 있다.\n",
    "- 데이터 프레임에 거래가 취소되었는지 여부를 나타내는 새로운 변수를 생성한다.\n",
    "- 취소된 주문에는 세가지 종류가 있다.\n",
    "    1. 상대방 없이 거래가 취소된 경우 \n",
    "        - 일부는 구매 주문이 2010년 12월 이전에 진행됐다.\n",
    "    2. 정확하게 상대방 한 명이 취소한 경우\n",
    "    3. 의심스러운 입력.\n",
    "        - 정확히 같은 수량이 가능한 상대방이 있는지 확인한다. \n",
    "        - 확인 후 의심스러운 입력이라면 별도로 표시한다."
   ]
  },
  {
   "cell_type": "code",
   "execution_count": 21,
   "metadata": {},
   "outputs": [],
   "source": [
    "df_cleaned = df_init.copy(deep = True)\n",
    "df_cleaned['QuantityCanceled'] = 0\n",
    "\n",
    "entry_to_remove = []\n",
    "doubtful_entry = []\n",
    "\n",
    "for index, col in df_init.iterrows():\n",
    "    if (col['Quantity'] > 0) or col['Description'] == 'Discount':\n",
    "        continue\n",
    "    df_test = df_init[(df_init['CustomerID'] == col['CustomerID']) &\n",
    "                      (df_init['StockCode'] == col['StockCode']) &\n",
    "                      (df_init['InvoiceDate'] < col['InvoiceDate']) &\n",
    "                      (df_init['Quantity'] > 0)\n",
    "                     ].copy()\n",
    "    # 상대방 없이 취소한 경우\n",
    "    if (df_test.shape[0] == 0):\n",
    "        doubtful_entry.append(index)\n",
    "    \n",
    "    # 상대방이 존재하는 취소 경우\n",
    "    elif (df_test.shape[0] == 1):\n",
    "        index_order = df_test.index[0]\n",
    "        df_cleaned.loc[index_order, 'QuantityCanceled'] = -col['Quantity']\n",
    "        entry_to_remove.append(index)\n",
    "    \n",
    "    # 여러 상대방이 존재하는  주문건들 : 마지막 건은 지운다.\n",
    "    \n",
    "    elif (df_test.shape[0] > 1):\n",
    "        df_test.sort_index(axis=0, ascending=False, inplace=True)\n",
    "        for idx, val in df_test.iterrows():\n",
    "            if val['Quantity'] < -col['Quantity']:\n",
    "                continue\n",
    "            df_cleaned.loc[idx, 'QuantityCanceled'] = -col['Quantity']\n",
    "            entry_to_remove.append(index)\n",
    "            break"
   ]
  },
  {
   "cell_type": "code",
   "execution_count": 28,
   "metadata": {},
   "outputs": [
    {
     "name": "stdout",
     "output_type": "stream",
     "text": [
      "entry_to_remove : 7521\n",
      "doubtful_entry : 1226\n"
     ]
    }
   ],
   "source": [
    "print(\"entry_to_remove : {}\".format(len(entry_to_remove)))\n",
    "print(\"doubtful_entry : {}\".format(len(doubtful_entry)))"
   ]
  },
  {
   "cell_type": "markdown",
   "metadata": {},
   "source": [
    "- 7,521개의 입력이 주문 취소와 함께 표시된다.\n",
    "- 1,226개의 입력이 있으며 해당 입력이 없는 주문 취소가 표시된다.\n",
    "- 간단하게 하기 위해 주문 취소와 관련된 모든 입력을 삭제한다."
   ]
  },
  {
   "cell_type": "code",
   "execution_count": 32,
   "metadata": {},
   "outputs": [
    {
     "name": "stdout",
     "output_type": "stream",
     "text": [
      "nb of entries to delete: 48\n"
     ]
    },
    {
     "data": {
      "text/html": [
       "<div>\n",
       "<style scoped>\n",
       "    .dataframe tbody tr th:only-of-type {\n",
       "        vertical-align: middle;\n",
       "    }\n",
       "\n",
       "    .dataframe tbody tr th {\n",
       "        vertical-align: top;\n",
       "    }\n",
       "\n",
       "    .dataframe thead th {\n",
       "        text-align: right;\n",
       "    }\n",
       "</style>\n",
       "<table border=\"1\" class=\"dataframe\">\n",
       "  <thead>\n",
       "    <tr style=\"text-align: right;\">\n",
       "      <th></th>\n",
       "      <th>InvoiceNo</th>\n",
       "      <th>StockCode</th>\n",
       "      <th>Description</th>\n",
       "      <th>Quantity</th>\n",
       "      <th>InvoiceDate</th>\n",
       "      <th>UnitPrice</th>\n",
       "      <th>CustomerID</th>\n",
       "      <th>Country</th>\n",
       "      <th>QuantityCanceled</th>\n",
       "    </tr>\n",
       "  </thead>\n",
       "  <tbody>\n",
       "    <tr>\n",
       "      <th>77598</th>\n",
       "      <td>C542742</td>\n",
       "      <td>84535B</td>\n",
       "      <td>FAIRY CAKES NOTEBOOK A6 SIZE</td>\n",
       "      <td>-94</td>\n",
       "      <td>2011-01-31 16:26:00</td>\n",
       "      <td>0.65</td>\n",
       "      <td>15358</td>\n",
       "      <td>United Kingdom</td>\n",
       "      <td>0</td>\n",
       "    </tr>\n",
       "    <tr>\n",
       "      <th>90444</th>\n",
       "      <td>C544038</td>\n",
       "      <td>22784</td>\n",
       "      <td>LANTERN CREAM GAZEBO</td>\n",
       "      <td>-4</td>\n",
       "      <td>2011-02-15 11:32:00</td>\n",
       "      <td>4.95</td>\n",
       "      <td>14659</td>\n",
       "      <td>United Kingdom</td>\n",
       "      <td>0</td>\n",
       "    </tr>\n",
       "    <tr>\n",
       "      <th>111968</th>\n",
       "      <td>C545852</td>\n",
       "      <td>22464</td>\n",
       "      <td>HANGING METAL HEART LANTERN</td>\n",
       "      <td>-5</td>\n",
       "      <td>2011-03-07 13:49:00</td>\n",
       "      <td>1.65</td>\n",
       "      <td>14048</td>\n",
       "      <td>United Kingdom</td>\n",
       "      <td>0</td>\n",
       "    </tr>\n",
       "    <tr>\n",
       "      <th>116064</th>\n",
       "      <td>C546191</td>\n",
       "      <td>47566B</td>\n",
       "      <td>TEA TIME PARTY BUNTING</td>\n",
       "      <td>-35</td>\n",
       "      <td>2011-03-10 10:57:00</td>\n",
       "      <td>0.70</td>\n",
       "      <td>16422</td>\n",
       "      <td>United Kingdom</td>\n",
       "      <td>0</td>\n",
       "    </tr>\n",
       "    <tr>\n",
       "      <th>132642</th>\n",
       "      <td>C547675</td>\n",
       "      <td>22263</td>\n",
       "      <td>FELT EGG COSY LADYBIRD</td>\n",
       "      <td>-49</td>\n",
       "      <td>2011-03-24 14:07:00</td>\n",
       "      <td>0.66</td>\n",
       "      <td>17754</td>\n",
       "      <td>United Kingdom</td>\n",
       "      <td>0</td>\n",
       "    </tr>\n",
       "  </tbody>\n",
       "</table>\n",
       "</div>"
      ],
      "text/plain": [
       "       InvoiceNo StockCode                   Description  Quantity  \\\n",
       "77598    C542742    84535B  FAIRY CAKES NOTEBOOK A6 SIZE       -94   \n",
       "90444    C544038     22784         LANTERN CREAM GAZEBO         -4   \n",
       "111968   C545852     22464   HANGING METAL HEART LANTERN        -5   \n",
       "116064   C546191    47566B        TEA TIME PARTY BUNTING       -35   \n",
       "132642   C547675     22263       FELT EGG COSY LADYBIRD        -49   \n",
       "\n",
       "               InvoiceDate  UnitPrice CustomerID         Country  \\\n",
       "77598  2011-01-31 16:26:00       0.65      15358  United Kingdom   \n",
       "90444  2011-02-15 11:32:00       4.95      14659  United Kingdom   \n",
       "111968 2011-03-07 13:49:00       1.65      14048  United Kingdom   \n",
       "116064 2011-03-10 10:57:00       0.70      16422  United Kingdom   \n",
       "132642 2011-03-24 14:07:00       0.66      17754  United Kingdom   \n",
       "\n",
       "        QuantityCanceled  \n",
       "77598                  0  \n",
       "90444                  0  \n",
       "111968                 0  \n",
       "116064                 0  \n",
       "132642                 0  "
      ]
     },
     "execution_count": 32,
     "metadata": {},
     "output_type": "execute_result"
    }
   ],
   "source": [
    "df_cleaned.drop(entry_to_remove, axis = 0, inplace = True)\n",
    "df_cleaned.drop(doubtful_entry, axis = 0, inplace = True)\n",
    "remaining_entries = df_cleaned[(df_cleaned['Quantity'] < 0) & (df_cleaned['StockCode'] != 'D')]\n",
    "print(\"nb of entries to delete: {}\".format(remaining_entries.shape[0]))\n",
    "remaining_entries[:5]"
   ]
  },
  {
   "cell_type": "code",
   "execution_count": 33,
   "metadata": {},
   "outputs": [
    {
     "data": {
      "text/html": [
       "<div>\n",
       "<style scoped>\n",
       "    .dataframe tbody tr th:only-of-type {\n",
       "        vertical-align: middle;\n",
       "    }\n",
       "\n",
       "    .dataframe tbody tr th {\n",
       "        vertical-align: top;\n",
       "    }\n",
       "\n",
       "    .dataframe thead th {\n",
       "        text-align: right;\n",
       "    }\n",
       "</style>\n",
       "<table border=\"1\" class=\"dataframe\">\n",
       "  <thead>\n",
       "    <tr style=\"text-align: right;\">\n",
       "      <th></th>\n",
       "      <th>InvoiceNo</th>\n",
       "      <th>StockCode</th>\n",
       "      <th>Description</th>\n",
       "      <th>Quantity</th>\n",
       "      <th>InvoiceDate</th>\n",
       "      <th>UnitPrice</th>\n",
       "      <th>CustomerID</th>\n",
       "      <th>Country</th>\n",
       "      <th>QuantityCanceled</th>\n",
       "    </tr>\n",
       "  </thead>\n",
       "  <tbody>\n",
       "  </tbody>\n",
       "</table>\n",
       "</div>"
      ],
      "text/plain": [
       "Empty DataFrame\n",
       "Columns: [InvoiceNo, StockCode, Description, Quantity, InvoiceDate, UnitPrice, CustomerID, Country, QuantityCanceled]\n",
       "Index: []"
      ]
     },
     "execution_count": 33,
     "metadata": {},
     "output_type": "execute_result"
    }
   ],
   "source": [
    "df_cleaned[(df_cleaned['CustomerID'] == 14048) & (df_cleaned['StockCode'] == '22464')]"
   ]
  },
  {
   "cell_type": "markdown",
   "metadata": {},
   "source": [
    "- 주문취소를 식별하면서 재고번호(StockCode)를 기준으로 할인 입력을 하는 것을 발견했다.\n",
    "- 이를 통해 재고 번호를 기반으로 입력을 분석해본다."
   ]
  },
  {
   "cell_type": "code",
   "execution_count": 34,
   "metadata": {},
   "outputs": [
    {
     "data": {
      "text/plain": [
       "array(['POST', 'D', 'C2', 'M', 'BANK CHARGES', 'PADS', 'DOT'],\n",
       "      dtype=object)"
      ]
     },
     "execution_count": 34,
     "metadata": {},
     "output_type": "execute_result"
    }
   ],
   "source": [
    "# 재고번호 나열\n",
    "list_special_codes = df_cleaned[df_cleaned['StockCode'].str.contains('^[a-zA-Z]+', regex=True)]['StockCode'].unique()\n",
    "list_special_codes"
   ]
  },
  {
   "cell_type": "code",
   "execution_count": 35,
   "metadata": {},
   "outputs": [
    {
     "name": "stdout",
     "output_type": "stream",
     "text": [
      "POST            -> POSTAGE                       \n",
      "D               -> Discount                      \n",
      "C2              -> CARRIAGE                      \n",
      "M               -> Manual                        \n",
      "BANK CHARGES    -> Bank Charges                  \n",
      "PADS            -> PADS TO MATCH ALL CUSHIONS    \n",
      "DOT             -> DOTCOM POSTAGE                \n"
     ]
    }
   ],
   "source": [
    "for code in list_special_codes:\n",
    "    print(\"{:<15} -> {:<30}\".format(code, df_cleaned[df_cleaned['StockCode'] == code]['Description'].unique()[0]))"
   ]
  },
  {
   "cell_type": "code",
   "execution_count": 36,
   "metadata": {},
   "outputs": [],
   "source": [
    "df_cleaned.to_csv(\"df_cleanded.csv\")"
   ]
  },
  {
   "cell_type": "markdown",
   "metadata": {},
   "source": [
    "#### 4) 제품 범주 정의"
   ]
  },
  {
   "cell_type": "markdown",
   "metadata": {},
   "source": [
    "## 3-3) 고객 범주 생성"
   ]
  },
  {
   "cell_type": "markdown",
   "metadata": {},
   "source": [
    "## 3-4) 고객 분류"
   ]
  }
 ],
 "metadata": {
  "kernelspec": {
   "display_name": "Python 3",
   "language": "python",
   "name": "python3"
  },
  "language_info": {
   "codemirror_mode": {
    "name": "ipython",
    "version": 3
   },
   "file_extension": ".py",
   "mimetype": "text/x-python",
   "name": "python",
   "nbconvert_exporter": "python",
   "pygments_lexer": "ipython3",
   "version": "3.7.4"
  }
 },
 "nbformat": 4,
 "nbformat_minor": 4
}
